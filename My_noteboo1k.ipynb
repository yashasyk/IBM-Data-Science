{
 "cells": [
  {
   "cell_type": "code",
   "execution_count": 1,
   "id": "fdfb2746-da0d-4ed8-a136-7f22a1b62d52",
   "metadata": {},
   "outputs": [
    {
     "data": {
      "text/plain": [
       "2"
      ]
     },
     "execution_count": 1,
     "metadata": {},
     "output_type": "execute_result"
    }
   ],
   "source": [
    "1+1"
   ]
  },
  {
   "cell_type": "code",
   "execution_count": 2,
   "id": "e4a06c7a-c5e4-4dd8-84c8-071b8f60b293",
   "metadata": {},
   "outputs": [
    {
     "data": {
      "text/plain": [
       "15"
      ]
     },
     "execution_count": 2,
     "metadata": {},
     "output_type": "execute_result"
    }
   ],
   "source": [
    "3*5"
   ]
  },
  {
   "cell_type": "code",
   "execution_count": 3,
   "id": "837276b0-a047-499b-a75d-f8d0832740f1",
   "metadata": {},
   "outputs": [
    {
     "data": {
      "text/plain": [
       "2.0"
      ]
     },
     "execution_count": 3,
     "metadata": {},
     "output_type": "execute_result"
    }
   ],
   "source": [
    "4/2"
   ]
  },
  {
   "cell_type": "code",
   "execution_count": 4,
   "id": "8882a853-a030-4a6a-ab5c-9d752f1f80fd",
   "metadata": {},
   "outputs": [
    {
     "data": {
      "text/plain": [
       "2"
      ]
     },
     "execution_count": 4,
     "metadata": {},
     "output_type": "execute_result"
    }
   ],
   "source": [
    "4//2"
   ]
  },
  {
   "cell_type": "markdown",
   "id": "a01ee23c-f9d2-4c38-934d-c3cbe2b5c801",
   "metadata": {},
   "source": [
    "hello ji"
   ]
  },
  {
   "cell_type": "code",
   "execution_count": 5,
   "id": "e4db4f06-5ce5-403e-8bc4-e2cd559a4e8f",
   "metadata": {},
   "outputs": [
    {
     "data": {
      "text/plain": [
       "0"
      ]
     },
     "execution_count": 5,
     "metadata": {},
     "output_type": "execute_result"
    }
   ],
   "source": [
    "4%2"
   ]
  },
  {
   "cell_type": "markdown",
   "id": "26088b97-28e6-4b69-8c6a-a16162287195",
   "metadata": {},
   "source": [
    "ker blam"
   ]
  },
  {
   "cell_type": "code",
   "execution_count": null,
   "id": "bc4b53ea-c196-49f8-8912-a41c8802fefb",
   "metadata": {},
   "outputs": [],
   "source": []
  },
  {
   "cell_type": "code",
   "execution_count": null,
   "id": "588291de-8d78-44d0-8fbc-e0d730313a1f",
   "metadata": {},
   "outputs": [],
   "source": []
  }
 ],
 "metadata": {
  "kernelspec": {
   "display_name": "Python",
   "language": "python",
   "name": "conda-env-python-py"
  },
  "language_info": {
   "codemirror_mode": {
    "name": "ipython",
    "version": 3
   },
   "file_extension": ".py",
   "mimetype": "text/x-python",
   "name": "python",
   "nbconvert_exporter": "python",
   "pygments_lexer": "ipython3",
   "version": "3.6.13"
  }
 },
 "nbformat": 4,
 "nbformat_minor": 5
}
